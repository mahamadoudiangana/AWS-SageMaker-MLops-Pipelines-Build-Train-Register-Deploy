{
 "cells": [
  {
   "cell_type": "markdown",
   "id": "dd802d46",
   "metadata": {},
   "source": [
    "### _`Creating a  Rest API for an existing AWS Sagemaker Endpoint by using AWS Lambda & AWS API Gateway`_"
   ]
  },
  {
   "cell_type": "code",
   "execution_count": null,
   "id": "f6d804e8",
   "metadata": {},
   "outputs": [],
   "source": []
  },
  {
   "cell_type": "markdown",
   "id": "dc32830e",
   "metadata": {},
   "source": [
    "#### _`Let's first of all, create our lambda function (a serverless AWS service) that will preprocess the incoming requests on our behave and invoke the corresponding AWS SageMaker Endpoint`_"
   ]
  },
  {
   "cell_type": "code",
   "execution_count": null,
   "id": "58228563",
   "metadata": {},
   "outputs": [],
   "source": [
    "import os\n",
    "import io\n",
    "import boto3\n",
    "import json\n",
    "import csv\n",
    "\n",
    "# For best practice reasons, we will fetch the sagemaker endpoint from the environment variables\n",
    "ENDPOINT_NAME = os.environ['ENDPOINT_NAME']\n",
    "\n",
    "# And then we will initialize the runtime client for invoking the SageMaker endpoint\n",
    "runtime= boto3.client('sagemaker-runtime') # 'runtime.sagemaker'\n",
    "\n",
    "# Now, comes the incoming request processing part\n",
    "def lambda_handler(event, context):\n",
    "    # Let's first of all store all the event JSON format into a variable \n",
    "    payload = json.loads(json.dumps(event))\n",
    "\n",
    "    # Then, we will extract the data from the request body (which is a CSV string)\n",
    "    payload_data = str(payload['body'])\n",
    "\n",
    "    # Then, we will try to print the extracted data to ensure it's being processed correctly\n",
    "    print(payload_data)\n",
    "\n",
    "    # Now, it is high time to invoke the endpoint \n",
    "    response = runtime.invoke_endpoint(EndpointName=ENDPOINT_NAME,\n",
    "                                      ContentType='text/csv',\n",
    "                                      Body=payload_data)\n",
    "    \n",
    "    # After invoking the endpoint, we will parse the response to get the prediction\n",
    "    result = json.loads(response['Body'].read().decode())\n",
    "\n",
    "    # And finally, we will send the response back to the client\n",
    "    preds = {\"Prediction\": result}\n",
    "    \n",
    "    response_dict = {\n",
    "          \"statusCode\": 200,\n",
    "          \"body\": json.dumps(preds)\n",
    "                }\n",
    "    return response_dict"
   ]
  },
  {
   "cell_type": "markdown",
   "id": "fff16207",
   "metadata": {},
   "source": [
    "### _`Now, comes one of the most important parts, giving the permissions to the lambda function to be able to invoke the SageMaker endpoint`_"
   ]
  },
  {
   "cell_type": "code",
   "execution_count": null,
   "id": "fe4e561d",
   "metadata": {},
   "outputs": [],
   "source": [
    "{\n",
    "    \"Version\": \"2012-10-17\",\n",
    "    \"Statement\": [\n",
    "        {\n",
    "            \"Sid\": \"VisualEditor0\",\n",
    "            \"Effect\": \"Allow\", # We are allowing actions/operations that will be specified in 'Action'\n",
    "            \"Action\": \"sagemaker:InvokeEndpoint\", # The action/operation that we are allowing is invoking a sagemaker endpoint \n",
    "            \"Resource\": \"*\" # On all the sagemaker's endpoints (here, we are not specifying endpoints, but all of them)\n",
    "        }\n",
    "    ]\n",
    "}"
   ]
  },
  {
   "cell_type": "markdown",
   "id": "037ddac7",
   "metadata": {},
   "source": [
    "### _`Now that our lambda function is ready, we will now create our  Rest API in API Gateway and configure it to send the incoming requests' events to the above lambda function for prediction`_"
   ]
  },
  {
   "cell_type": "markdown",
   "id": "9dfa8020",
   "metadata": {},
   "source": [
    "_`Now that our REST API is created and configured to send the incoming requests' event to our desired lambda function, now it's time to test our 'predict' resource and our 'POST' method `_"
   ]
  },
  {
   "cell_type": "code",
   "execution_count": null,
   "id": "008bdb28",
   "metadata": {},
   "outputs": [],
   "source": [
    "import requests\n",
    "\n",
    "api_url = \" <THE API URL>\" \n",
    "\n",
    "payload = \"1454.0,1.0,0.5,1.0,1.0,0.0,34.0,0.7,83.0,4.0,3.0,250.0,1033.0,3419.0,7.0,5.0,5.0,1.0,1.0,0.0\"\n",
    "\n",
    "headers = {\n",
    "  'Content-Type': 'text/csv' # Because, we have prepared the model to receive the incoming request data as a 'text/csv' in our 'def input_fn' function (you can find it in \n",
    "                             # the inference.py) python script in the same directory\n",
    "}\n",
    "\n",
    "response = requests.request(\"POST\", api_url, headers=headers, data=payload)\n",
    "\n",
    "print(response.text)"
   ]
  },
  {
   "cell_type": "markdown",
   "id": "8a2efd43",
   "metadata": {},
   "source": [
    "### _`After testing the API, if we are satisfied with it, we can directly deploy it in a very simple way from the AWS API Gateway`_"
   ]
  },
  {
   "cell_type": "markdown",
   "id": "661ba3a6",
   "metadata": {},
   "source": [
    "## _`Congratulations!!! You have built, trained, and deployed your own custom models and scripts in AWS SageMaker from a business problem to the deployment to the end users in AWS Cloud.`_"
   ]
  },
  {
   "cell_type": "code",
   "execution_count": null,
   "id": "75b34976",
   "metadata": {},
   "outputs": [],
   "source": []
  }
 ],
 "metadata": {
  "kernelspec": {
   "display_name": "venv",
   "language": "python",
   "name": "python3"
  },
  "language_info": {
   "codemirror_mode": {
    "name": "ipython",
    "version": 3
   },
   "file_extension": ".py",
   "mimetype": "text/x-python",
   "name": "python",
   "nbconvert_exporter": "python",
   "pygments_lexer": "ipython3",
   "version": "3.12.6"
  }
 },
 "nbformat": 4,
 "nbformat_minor": 5
}
